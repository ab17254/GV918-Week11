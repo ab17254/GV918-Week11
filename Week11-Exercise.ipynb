{
  "nbformat": 4,
  "nbformat_minor": 0,
  "metadata": {
    "colab": {
      "name": "Week11-Exercise.ipynb",
      "provenance": [],
      "collapsed_sections": []
    },
    "kernelspec": {
      "name": "python3",
      "display_name": "Python 3"
    }
  },
  "cells": [
    {
      "cell_type": "markdown",
      "metadata": {
        "id": "SkSbtM1WKVFz"
      },
      "source": [
        "## Exercise\r\n",
        "\r\n",
        "- In this exercise, we will work on a classification task of Brexit referendum vote\r\n",
        "- The data is originally from British Election Study Online Panel\r\n",
        "  - codebook: https://www.britishelectionstudy.com/wp-content/uploads/2020/05/Bes_wave19Documentation_V2.pdf\r\n",
        "- The outcome is `LeaveVote` (1: Leave, 0: otherwise)\r\n",
        "- The input we use are coming from the following article:\r\n",
        "  - Hobolt, Sara (2016) The Brexit vote: a divided nation, a divided continent. _Journal of European Public Policy_, 23 (9) (https://doi.org/10.1080/13501763.2016.1225785)"
      ]
    },
    {
      "cell_type": "code",
      "metadata": {
        "id": "VWZh9_opJf1R",
        "colab": {
          "base_uri": "https://localhost:8080/"
        },
        "outputId": "b83977df-f93d-4af5-eebb-6db87aea9a09"
      },
      "source": [
        "!wget https://www.dropbox.com/s/up1zpkozgscaty1/brexit_bes_sampled_data.csv"
      ],
      "execution_count": 5,
      "outputs": [
        {
          "output_type": "stream",
          "text": [
            "--2020-12-15 15:05:31--  https://www.dropbox.com/s/up1zpkozgscaty1/brexit_bes_sampled_data.csv\n",
            "Resolving www.dropbox.com (www.dropbox.com)... 162.125.5.18, 2620:100:601d:18::a27d:512\n",
            "Connecting to www.dropbox.com (www.dropbox.com)|162.125.5.18|:443... connected.\n",
            "HTTP request sent, awaiting response... 301 Moved Permanently\n",
            "Location: /s/raw/up1zpkozgscaty1/brexit_bes_sampled_data.csv [following]\n",
            "--2020-12-15 15:05:32--  https://www.dropbox.com/s/raw/up1zpkozgscaty1/brexit_bes_sampled_data.csv\n",
            "Reusing existing connection to www.dropbox.com:443.\n",
            "HTTP request sent, awaiting response... 302 Found\n",
            "Location: https://ucab65b68fdd3a0e93fb3307b69a.dl.dropboxusercontent.com/cd/0/inline/BFGLd5dr3MtLZOEGEU3wbnMjbuP1QC4u8IX6Lj5t2kA2Y2E3kPTSON5NWbcZHDqAAduJL6p3PSgXTY-SR8ZG77-6wj_4pS_XdG42oU74HZrLlCc56hF7BofHHeptLIcZPqw/file# [following]\n",
            "--2020-12-15 15:05:32--  https://ucab65b68fdd3a0e93fb3307b69a.dl.dropboxusercontent.com/cd/0/inline/BFGLd5dr3MtLZOEGEU3wbnMjbuP1QC4u8IX6Lj5t2kA2Y2E3kPTSON5NWbcZHDqAAduJL6p3PSgXTY-SR8ZG77-6wj_4pS_XdG42oU74HZrLlCc56hF7BofHHeptLIcZPqw/file\n",
            "Resolving ucab65b68fdd3a0e93fb3307b69a.dl.dropboxusercontent.com (ucab65b68fdd3a0e93fb3307b69a.dl.dropboxusercontent.com)... 162.125.5.15, 2620:100:601d:15::a27d:50f\n",
            "Connecting to ucab65b68fdd3a0e93fb3307b69a.dl.dropboxusercontent.com (ucab65b68fdd3a0e93fb3307b69a.dl.dropboxusercontent.com)|162.125.5.15|:443... connected.\n",
            "HTTP request sent, awaiting response... 200 OK\n",
            "Length: 104706 (102K) [text/plain]\n",
            "Saving to: ‘brexit_bes_sampled_data.csv.1’\n",
            "\n",
            "brexit_bes_sampled_ 100%[===================>] 102.25K  --.-KB/s    in 0.08s   \n",
            "\n",
            "2020-12-15 15:05:33 (1.28 MB/s) - ‘brexit_bes_sampled_data.csv.1’ saved [104706/104706]\n",
            "\n"
          ],
          "name": "stdout"
        }
      ]
    },
    {
      "cell_type": "markdown",
      "metadata": {
        "id": "gtYgxztWJv-J"
      },
      "source": [
        "## Import packages"
      ]
    },
    {
      "cell_type": "code",
      "metadata": {
        "id": "NKwOXdGIJvqx"
      },
      "source": [
        "import pandas as pd\r\n",
        "import seaborn as sns\r\n",
        "import matplotlib.pyplot as plt\r\n",
        "import numpy as np"
      ],
      "execution_count": 6,
      "outputs": []
    },
    {
      "cell_type": "markdown",
      "metadata": {
        "id": "Vn_tqq8MJrda"
      },
      "source": [
        "## Load data"
      ]
    },
    {
      "cell_type": "code",
      "metadata": {
        "id": "EKTQ5QueJili"
      },
      "source": [
        "df_bes = pd.read_csv(\"brexit_bes_sampled_data.csv\")"
      ],
      "execution_count": 7,
      "outputs": []
    },
    {
      "cell_type": "code",
      "metadata": {
        "id": "nYjKuIBTFfog"
      },
      "source": [
        ""
      ],
      "execution_count": 7,
      "outputs": []
    },
    {
      "cell_type": "markdown",
      "metadata": {
        "id": "NcclDRVNStFl"
      },
      "source": [
        "# Model\r\n",
        "\r\n",
        "- There are four models in the article. We will use the idenity model (Model 2 in Table 2)\r\n",
        "- List of input variables:\r\n",
        "  gender, age, edlevel, hhincome, EuropeanIdentity, EnglishIdentity, BritishIdentity"
      ]
    },
    {
      "cell_type": "code",
      "metadata": {
        "id": "2jkOE7i7Ss0P"
      },
      "source": [
        "df_bes_sub = df_bes[['gender', 'age', 'edlevel', 'hhincome', 'EuropeanIdentity', 'EnglishIdentity', 'BritishIdentity', 'LeaveVote']]"
      ],
      "execution_count": 8,
      "outputs": []
    },
    {
      "cell_type": "code",
      "metadata": {
        "id": "YfyaiJagFe9G"
      },
      "source": [
        "x = df_bes_sub.iloc[:, 0:7]\r\n",
        "y = df_bes['LeaveVote']"
      ],
      "execution_count": 9,
      "outputs": []
    },
    {
      "cell_type": "markdown",
      "metadata": {
        "id": "UxxfSN0STq8n"
      },
      "source": [
        "# Train-test split"
      ]
    },
    {
      "cell_type": "code",
      "metadata": {
        "id": "LrlWWbLJVfXm"
      },
      "source": [
        "from sklearn.model_selection import train_test_split"
      ],
      "execution_count": 10,
      "outputs": []
    },
    {
      "cell_type": "code",
      "metadata": {
        "id": "pOgD4-erFh7O"
      },
      "source": [
        "x_train, x_test, y_train, y_test = train_test_split(x, y, test_size = .25, random_state = 42)"
      ],
      "execution_count": 11,
      "outputs": []
    },
    {
      "cell_type": "code",
      "metadata": {
        "id": "lpgN0qLpMtan",
        "colab": {
          "base_uri": "https://localhost:8080/"
        },
        "outputId": "f2aa9d66-b705-4d46-ab37-79dbae70ebd9"
      },
      "source": [
        "print(x_train.shape)\r\n",
        "print(x_test.shape)"
      ],
      "execution_count": 12,
      "outputs": [
        {
          "output_type": "stream",
          "text": [
            "(1500, 7)\n",
            "(500, 7)\n"
          ],
          "name": "stdout"
        }
      ]
    },
    {
      "cell_type": "markdown",
      "metadata": {
        "id": "1-2Z9iTgVj7p"
      },
      "source": [
        "# Data wrangling"
      ]
    },
    {
      "cell_type": "code",
      "metadata": {
        "id": "W9Yvnn6at5cX"
      },
      "source": [
        "from sklearn.preprocessing import StandardScaler\r\n",
        "st_scaler = StandardScaler()"
      ],
      "execution_count": 13,
      "outputs": []
    },
    {
      "cell_type": "code",
      "metadata": {
        "id": "S6ZAw8AWt8dv"
      },
      "source": [
        "x_train = st_scaler.fit_transform(x_train)\r\n",
        "x_test = st_scaler.transform(x_test)"
      ],
      "execution_count": 14,
      "outputs": []
    },
    {
      "cell_type": "code",
      "metadata": {
        "id": "XUrAJK-UuRRx",
        "colab": {
          "base_uri": "https://localhost:8080/"
        },
        "outputId": "edd4e15e-84b3-44bb-e513-dc42502fa789"
      },
      "source": [
        "x_test[:3]"
      ],
      "execution_count": 15,
      "outputs": [
        {
          "output_type": "execute_result",
          "data": {
            "text/plain": [
              "array([[-1.01342342,  0.50775322,  0.71937721, -1.69515159,  0.69979419,\n",
              "        -0.01998199,  0.89072259],\n",
              "       [ 0.98675438,  1.09793518, -0.00726644, -0.52769182,  0.18245004,\n",
              "         0.8882901 ,  0.89072259],\n",
              "       [ 0.98675438,  1.39302616,  0.71937721, -1.1114217 ,  0.18245004,\n",
              "         0.43415406, -0.36087824]])"
            ]
          },
          "metadata": {
            "tags": []
          },
          "execution_count": 15
        }
      ]
    },
    {
      "cell_type": "markdown",
      "metadata": {
        "id": "dBRrfQfrt1NR"
      },
      "source": [
        "## Fit logistic model"
      ]
    },
    {
      "cell_type": "code",
      "metadata": {
        "id": "SwdSSNpVqxTM"
      },
      "source": [
        "from sklearn.linear_model import LogisticRegression"
      ],
      "execution_count": 16,
      "outputs": []
    },
    {
      "cell_type": "code",
      "metadata": {
        "id": "FS8HPxUTsOfd"
      },
      "source": [
        "from sklearn.metrics import classification_report, confusion_matrix"
      ],
      "execution_count": 17,
      "outputs": []
    },
    {
      "cell_type": "code",
      "metadata": {
        "id": "J3IpiCblVt_T"
      },
      "source": [
        "logitmod = LogisticRegression()"
      ],
      "execution_count": 18,
      "outputs": []
    },
    {
      "cell_type": "code",
      "metadata": {
        "id": "GgwCoe3INL10",
        "colab": {
          "base_uri": "https://localhost:8080/"
        },
        "outputId": "43aa92aa-a996-4869-a330-94f8426a37f7"
      },
      "source": [
        "logitmod.fit(x_train, y_train)"
      ],
      "execution_count": 19,
      "outputs": [
        {
          "output_type": "execute_result",
          "data": {
            "text/plain": [
              "LogisticRegression(C=1.0, class_weight=None, dual=False, fit_intercept=True,\n",
              "                   intercept_scaling=1, l1_ratio=None, max_iter=100,\n",
              "                   multi_class='auto', n_jobs=None, penalty='l2',\n",
              "                   random_state=None, solver='lbfgs', tol=0.0001, verbose=0,\n",
              "                   warm_start=False)"
            ]
          },
          "metadata": {
            "tags": []
          },
          "execution_count": 19
        }
      ]
    },
    {
      "cell_type": "code",
      "metadata": {
        "id": "PaqzmyHpNSiz",
        "colab": {
          "base_uri": "https://localhost:8080/"
        },
        "outputId": "636a0d94-cc8a-4e6d-b642-df014562bbb8"
      },
      "source": [
        "pred_logit = logitmod.predict(x_test)\r\n",
        "pred_logit"
      ],
      "execution_count": 20,
      "outputs": [
        {
          "output_type": "execute_result",
          "data": {
            "text/plain": [
              "array([0, 1, 0, 0, 1, 1, 1, 0, 1, 0, 0, 1, 0, 1, 0, 1, 1, 1, 1, 0, 0, 1,\n",
              "       1, 0, 1, 1, 0, 1, 0, 0, 1, 1, 1, 0, 1, 1, 0, 0, 1, 0, 1, 1, 1, 0,\n",
              "       1, 1, 1, 1, 0, 1, 0, 0, 0, 1, 0, 0, 0, 1, 1, 0, 0, 0, 1, 0, 1, 0,\n",
              "       1, 0, 0, 0, 0, 1, 1, 1, 0, 0, 0, 0, 1, 0, 1, 0, 1, 0, 0, 0, 0, 1,\n",
              "       0, 1, 1, 1, 1, 0, 0, 1, 0, 1, 0, 0, 0, 1, 1, 0, 0, 0, 1, 0, 0, 0,\n",
              "       0, 1, 1, 0, 0, 0, 1, 0, 0, 1, 0, 1, 1, 0, 0, 0, 1, 0, 1, 0, 1, 0,\n",
              "       0, 1, 1, 1, 1, 0, 0, 0, 1, 0, 0, 0, 0, 1, 0, 0, 1, 0, 1, 1, 0, 0,\n",
              "       0, 0, 1, 1, 1, 1, 0, 1, 1, 0, 1, 1, 0, 0, 1, 0, 0, 1, 0, 0, 1, 1,\n",
              "       1, 1, 1, 1, 0, 0, 1, 1, 0, 1, 0, 1, 0, 1, 1, 0, 0, 1, 1, 1, 0, 1,\n",
              "       1, 0, 0, 0, 1, 1, 0, 1, 1, 0, 0, 1, 1, 1, 1, 0, 1, 0, 0, 1, 1, 1,\n",
              "       0, 1, 1, 1, 0, 1, 0, 1, 1, 0, 0, 0, 1, 0, 1, 1, 0, 1, 1, 1, 1, 1,\n",
              "       1, 0, 0, 1, 0, 0, 0, 0, 0, 1, 0, 0, 1, 0, 1, 0, 0, 0, 0, 1, 0, 1,\n",
              "       0, 0, 0, 1, 0, 0, 0, 1, 0, 0, 1, 0, 1, 1, 0, 0, 0, 0, 1, 0, 0, 0,\n",
              "       0, 1, 1, 0, 1, 0, 0, 0, 1, 1, 0, 0, 1, 0, 0, 0, 0, 0, 1, 1, 0, 1,\n",
              "       0, 0, 0, 1, 0, 1, 0, 0, 0, 0, 0, 1, 1, 1, 1, 1, 0, 1, 0, 0, 0, 0,\n",
              "       0, 1, 1, 0, 1, 1, 0, 1, 0, 0, 0, 1, 0, 0, 1, 1, 0, 0, 0, 0, 1, 0,\n",
              "       0, 0, 1, 0, 1, 1, 1, 0, 1, 0, 0, 1, 1, 0, 1, 0, 1, 0, 1, 1, 1, 0,\n",
              "       1, 0, 1, 0, 0, 1, 1, 0, 1, 1, 0, 0, 1, 1, 1, 1, 1, 1, 1, 0, 1, 0,\n",
              "       1, 1, 1, 1, 1, 1, 1, 1, 1, 1, 0, 0, 1, 1, 1, 1, 0, 0, 1, 0, 0, 0,\n",
              "       0, 1, 0, 1, 0, 0, 1, 1, 0, 0, 0, 0, 1, 0, 0, 1, 0, 1, 1, 1, 0, 1,\n",
              "       1, 1, 0, 0, 1, 0, 1, 1, 0, 1, 0, 0, 1, 0, 0, 1, 1, 1, 0, 1, 0, 1,\n",
              "       1, 0, 1, 1, 0, 0, 0, 1, 0, 1, 0, 0, 0, 1, 1, 1, 1, 0, 1, 0, 1, 0,\n",
              "       1, 1, 0, 1, 1, 0, 0, 0, 1, 0, 1, 0, 0, 0, 1, 1])"
            ]
          },
          "metadata": {
            "tags": []
          },
          "execution_count": 20
        }
      ]
    },
    {
      "cell_type": "markdown",
      "metadata": {
        "id": "4ieho6wGV4IP"
      },
      "source": [
        "## KNN classifier"
      ]
    },
    {
      "cell_type": "code",
      "metadata": {
        "id": "3gT0g3eKvEFY"
      },
      "source": [
        "from sklearn.neighbors import KNeighborsClassifier, NeighborhoodComponentsAnalysis\r\n",
        "from sklearn.pipeline import Pipeline"
      ],
      "execution_count": 21,
      "outputs": []
    },
    {
      "cell_type": "code",
      "metadata": {
        "id": "HofC5ixrP5wF",
        "colab": {
          "base_uri": "https://localhost:8080/"
        },
        "outputId": "8b75de4d-abd7-4437-a00a-1e7464341d38"
      },
      "source": [
        "x_test.shape"
      ],
      "execution_count": 22,
      "outputs": [
        {
          "output_type": "execute_result",
          "data": {
            "text/plain": [
              "(500, 7)"
            ]
          },
          "metadata": {
            "tags": []
          },
          "execution_count": 22
        }
      ]
    },
    {
      "cell_type": "code",
      "metadata": {
        "id": "Mg1Tkng57rJC",
        "outputId": "c945131e-b392-42ea-b93d-d420f66e52d5",
        "colab": {
          "base_uri": "https://localhost:8080/"
        }
      },
      "source": [
        "knn = KNeighborsClassifier(n_neighbors=2)\r\n",
        "knn.fit(x_train, y_train)"
      ],
      "execution_count": 26,
      "outputs": [
        {
          "output_type": "execute_result",
          "data": {
            "text/plain": [
              "KNeighborsClassifier(algorithm='auto', leaf_size=30, metric='minkowski',\n",
              "                     metric_params=None, n_jobs=None, n_neighbors=2, p=2,\n",
              "                     weights='uniform')"
            ]
          },
          "metadata": {
            "tags": []
          },
          "execution_count": 26
        }
      ]
    },
    {
      "cell_type": "code",
      "metadata": {
        "id": "zVN4wVa37-1d",
        "outputId": "e9478022-5e14-41e4-d1c3-e06e42e13bbc",
        "colab": {
          "base_uri": "https://localhost:8080/"
        }
      },
      "source": [
        "pred_knn = knn.predict(x_test)\r\n",
        "pred_knn"
      ],
      "execution_count": 28,
      "outputs": [
        {
          "output_type": "execute_result",
          "data": {
            "text/plain": [
              "array([0, 1, 0, 0, 1, 1, 0, 0, 1, 0, 0, 1, 0, 1, 0, 0, 1, 1, 0, 0, 0, 0,\n",
              "       0, 0, 0, 1, 0, 1, 0, 0, 0, 1, 0, 1, 1, 1, 0, 0, 1, 0, 1, 1, 1, 0,\n",
              "       1, 1, 1, 0, 0, 1, 0, 0, 0, 0, 1, 0, 0, 1, 1, 0, 0, 0, 1, 0, 1, 0,\n",
              "       0, 0, 0, 0, 0, 1, 1, 1, 0, 0, 0, 1, 1, 1, 1, 0, 0, 0, 1, 0, 0, 0,\n",
              "       0, 1, 0, 0, 0, 0, 0, 1, 0, 1, 0, 0, 0, 1, 0, 0, 1, 0, 1, 0, 0, 0,\n",
              "       0, 0, 0, 0, 0, 0, 1, 0, 0, 1, 0, 1, 1, 0, 0, 0, 0, 0, 1, 0, 1, 0,\n",
              "       0, 1, 1, 1, 0, 0, 0, 0, 1, 0, 0, 0, 0, 0, 0, 0, 1, 0, 1, 1, 0, 0,\n",
              "       0, 0, 1, 1, 1, 1, 0, 1, 1, 0, 1, 1, 0, 0, 1, 0, 0, 0, 0, 0, 1, 1,\n",
              "       1, 0, 0, 1, 0, 0, 0, 1, 0, 1, 0, 1, 0, 1, 0, 0, 1, 0, 0, 0, 0, 1,\n",
              "       1, 0, 0, 0, 1, 1, 0, 1, 1, 0, 0, 0, 1, 0, 1, 0, 0, 0, 0, 0, 0, 1,\n",
              "       0, 1, 1, 1, 0, 1, 0, 1, 0, 0, 0, 0, 0, 0, 1, 1, 0, 1, 1, 1, 1, 1,\n",
              "       1, 0, 0, 1, 0, 0, 0, 0, 0, 0, 0, 0, 0, 0, 0, 0, 0, 0, 0, 1, 0, 1,\n",
              "       0, 0, 1, 1, 0, 0, 0, 1, 0, 1, 1, 0, 0, 0, 0, 0, 0, 0, 1, 0, 0, 0,\n",
              "       0, 1, 1, 0, 1, 0, 0, 0, 1, 1, 0, 0, 0, 0, 0, 0, 1, 1, 1, 1, 0, 1,\n",
              "       0, 0, 0, 0, 0, 1, 0, 0, 0, 0, 0, 0, 1, 1, 0, 1, 0, 1, 0, 0, 0, 0,\n",
              "       0, 1, 1, 0, 1, 1, 0, 1, 0, 0, 0, 0, 0, 0, 0, 0, 0, 0, 0, 0, 1, 0,\n",
              "       0, 0, 0, 0, 1, 1, 1, 0, 0, 0, 0, 0, 1, 0, 1, 1, 1, 0, 1, 0, 1, 1,\n",
              "       1, 0, 0, 0, 0, 0, 1, 0, 0, 0, 0, 0, 1, 1, 0, 1, 0, 0, 0, 0, 1, 0,\n",
              "       1, 1, 1, 1, 1, 0, 1, 1, 1, 1, 0, 1, 1, 0, 1, 0, 0, 0, 1, 0, 0, 0,\n",
              "       0, 1, 0, 0, 0, 0, 0, 1, 0, 0, 0, 0, 1, 0, 0, 1, 0, 0, 0, 1, 0, 1,\n",
              "       1, 1, 0, 0, 0, 0, 0, 0, 0, 1, 0, 0, 0, 0, 0, 1, 0, 0, 0, 0, 1, 0,\n",
              "       1, 1, 1, 1, 0, 0, 0, 0, 0, 1, 0, 0, 0, 1, 0, 1, 0, 0, 1, 0, 0, 0,\n",
              "       1, 1, 0, 0, 1, 0, 0, 0, 1, 0, 1, 0, 0, 0, 1, 1])"
            ]
          },
          "metadata": {
            "tags": []
          },
          "execution_count": 28
        }
      ]
    },
    {
      "cell_type": "code",
      "metadata": {
        "id": "4vjMdTaL8Dhe",
        "outputId": "8bed77d0-238d-4ab9-dd69-51fec80318a0",
        "colab": {
          "base_uri": "https://localhost:8080/"
        }
      },
      "source": [
        "print(confusion_matrix(y_test, pred_knn))\r\n",
        "print(classification_report(y_test, pred_knn))"
      ],
      "execution_count": 30,
      "outputs": [
        {
          "output_type": "stream",
          "text": [
            "[[216  40]\n",
            " [105 139]]\n",
            "              precision    recall  f1-score   support\n",
            "\n",
            "           0       0.67      0.84      0.75       256\n",
            "           1       0.78      0.57      0.66       244\n",
            "\n",
            "    accuracy                           0.71       500\n",
            "   macro avg       0.72      0.71      0.70       500\n",
            "weighted avg       0.72      0.71      0.70       500\n",
            "\n"
          ],
          "name": "stdout"
        }
      ]
    },
    {
      "cell_type": "markdown",
      "metadata": {
        "id": "q1GzrqD-x_4A"
      },
      "source": [
        "### Parameter tuning for KNN\r\n",
        "\r\n"
      ]
    },
    {
      "cell_type": "code",
      "metadata": {
        "id": "9erCnQWWDnu0"
      },
      "source": [
        "from sklearn.model_selection import GridSearchCV\r\n",
        "from sklearn.metrics import f1_score, make_scorer\r\n",
        "f1 = make_scorer(f1_score, average = 'binary', pos_label = 1)"
      ],
      "execution_count": 35,
      "outputs": []
    },
    {
      "cell_type": "code",
      "metadata": {
        "id": "Svs1FmJaFvE4",
        "outputId": "00acf42b-1461-4f81-ac75-c2c75639e2e6",
        "colab": {
          "base_uri": "https://localhost:8080/"
        }
      },
      "source": [
        "knn2 = KNeighborsClassifier()\r\n",
        "param_grid = {'n_neighbors': np.arange(1,25)}\r\n",
        "knn_cv = GridSearchCV(knn2, param_grid, cv=10, verbose=2)\r\n",
        "knn_cv.fit(x_train, y_train)\r\n",
        "print(knn_cv.best_score_)\r\n",
        "print(knn_cv.best_params_)\r\n",
        "pred_knn2 = knn_cv.predict(x_test)\r\n",
        "print(classification_report(y_test, pred_knn))\r\n",
        "print(confusion_matrix(y_test, pred_knn))"
      ],
      "execution_count": 47,
      "outputs": [
        {
          "output_type": "stream",
          "text": [
            "Fitting 10 folds for each of 24 candidates, totalling 240 fits\n",
            "[CV] n_neighbors=1 ...................................................\n",
            "[CV] .................................... n_neighbors=1, total=   0.0s\n",
            "[CV] n_neighbors=1 ...................................................\n",
            "[CV] .................................... n_neighbors=1, total=   0.0s\n",
            "[CV] n_neighbors=1 ...................................................\n",
            "[CV] .................................... n_neighbors=1, total=   0.0s\n",
            "[CV] n_neighbors=1 ...................................................\n",
            "[CV] .................................... n_neighbors=1, total=   0.0s\n",
            "[CV] n_neighbors=1 ...................................................\n",
            "[CV] .................................... n_neighbors=1, total=   0.0s\n",
            "[CV] n_neighbors=1 ...................................................\n",
            "[CV] .................................... n_neighbors=1, total=   0.0s\n",
            "[CV] n_neighbors=1 ...................................................\n",
            "[CV] .................................... n_neighbors=1, total=   0.0s\n",
            "[CV] n_neighbors=1 ...................................................\n",
            "[CV] .................................... n_neighbors=1, total=   0.0s\n",
            "[CV] n_neighbors=1 ...................................................\n",
            "[CV] .................................... n_neighbors=1, total=   0.0s\n",
            "[CV] n_neighbors=1 ...................................................\n",
            "[CV] .................................... n_neighbors=1, total=   0.0s\n",
            "[CV] n_neighbors=2 ...................................................\n",
            "[CV] .................................... n_neighbors=2, total=   0.0s\n",
            "[CV] n_neighbors=2 ...................................................\n",
            "[CV] .................................... n_neighbors=2, total=   0.0s\n",
            "[CV] n_neighbors=2 ...................................................\n",
            "[CV] .................................... n_neighbors=2, total=   0.0s\n",
            "[CV] n_neighbors=2 ...................................................\n",
            "[CV] .................................... n_neighbors=2, total=   0.0s\n",
            "[CV] n_neighbors=2 ...................................................\n"
          ],
          "name": "stdout"
        },
        {
          "output_type": "stream",
          "text": [
            "[Parallel(n_jobs=1)]: Using backend SequentialBackend with 1 concurrent workers.\n",
            "[Parallel(n_jobs=1)]: Done   1 out of   1 | elapsed:    0.0s remaining:    0.0s\n"
          ],
          "name": "stderr"
        },
        {
          "output_type": "stream",
          "text": [
            "[CV] .................................... n_neighbors=2, total=   0.0s\n",
            "[CV] n_neighbors=2 ...................................................\n",
            "[CV] .................................... n_neighbors=2, total=   0.0s\n",
            "[CV] n_neighbors=2 ...................................................\n",
            "[CV] .................................... n_neighbors=2, total=   0.0s\n",
            "[CV] n_neighbors=2 ...................................................\n",
            "[CV] .................................... n_neighbors=2, total=   0.0s\n",
            "[CV] n_neighbors=2 ...................................................\n",
            "[CV] .................................... n_neighbors=2, total=   0.0s\n",
            "[CV] n_neighbors=2 ...................................................\n",
            "[CV] .................................... n_neighbors=2, total=   0.0s\n",
            "[CV] n_neighbors=3 ...................................................\n",
            "[CV] .................................... n_neighbors=3, total=   0.0s\n",
            "[CV] n_neighbors=3 ...................................................\n",
            "[CV] .................................... n_neighbors=3, total=   0.0s\n",
            "[CV] n_neighbors=3 ...................................................\n",
            "[CV] .................................... n_neighbors=3, total=   0.0s\n",
            "[CV] n_neighbors=3 ...................................................\n",
            "[CV] .................................... n_neighbors=3, total=   0.0s\n",
            "[CV] n_neighbors=3 ...................................................\n",
            "[CV] .................................... n_neighbors=3, total=   0.0s\n",
            "[CV] n_neighbors=3 ...................................................\n",
            "[CV] .................................... n_neighbors=3, total=   0.0s\n",
            "[CV] n_neighbors=3 ...................................................\n",
            "[CV] .................................... n_neighbors=3, total=   0.0s\n",
            "[CV] n_neighbors=3 ...................................................\n",
            "[CV] .................................... n_neighbors=3, total=   0.0s\n",
            "[CV] n_neighbors=3 ...................................................\n",
            "[CV] .................................... n_neighbors=3, total=   0.0s\n",
            "[CV] n_neighbors=3 ...................................................\n",
            "[CV] .................................... n_neighbors=3, total=   0.0s\n",
            "[CV] n_neighbors=4 ...................................................\n",
            "[CV] .................................... n_neighbors=4, total=   0.0s\n",
            "[CV] n_neighbors=4 ...................................................\n",
            "[CV] .................................... n_neighbors=4, total=   0.0s\n",
            "[CV] n_neighbors=4 ...................................................\n",
            "[CV] .................................... n_neighbors=4, total=   0.0s\n",
            "[CV] n_neighbors=4 ...................................................\n",
            "[CV] .................................... n_neighbors=4, total=   0.0s\n",
            "[CV] n_neighbors=4 ...................................................\n",
            "[CV] .................................... n_neighbors=4, total=   0.0s\n",
            "[CV] n_neighbors=4 ...................................................\n",
            "[CV] .................................... n_neighbors=4, total=   0.0s\n",
            "[CV] n_neighbors=4 ...................................................\n",
            "[CV] .................................... n_neighbors=4, total=   0.0s\n",
            "[CV] n_neighbors=4 ...................................................\n",
            "[CV] .................................... n_neighbors=4, total=   0.0s\n",
            "[CV] n_neighbors=4 ...................................................\n",
            "[CV] .................................... n_neighbors=4, total=   0.0s\n",
            "[CV] n_neighbors=4 ...................................................\n",
            "[CV] .................................... n_neighbors=4, total=   0.0s\n",
            "[CV] n_neighbors=5 ...................................................\n",
            "[CV] .................................... n_neighbors=5, total=   0.0s\n",
            "[CV] n_neighbors=5 ...................................................\n",
            "[CV] .................................... n_neighbors=5, total=   0.0s\n",
            "[CV] n_neighbors=5 ...................................................\n",
            "[CV] .................................... n_neighbors=5, total=   0.0s\n",
            "[CV] n_neighbors=5 ...................................................\n",
            "[CV] .................................... n_neighbors=5, total=   0.0s\n",
            "[CV] n_neighbors=5 ...................................................\n",
            "[CV] .................................... n_neighbors=5, total=   0.0s\n",
            "[CV] n_neighbors=5 ...................................................\n",
            "[CV] .................................... n_neighbors=5, total=   0.0s\n",
            "[CV] n_neighbors=5 ...................................................\n",
            "[CV] .................................... n_neighbors=5, total=   0.0s\n",
            "[CV] n_neighbors=5 ...................................................\n",
            "[CV] .................................... n_neighbors=5, total=   0.0s\n",
            "[CV] n_neighbors=5 ...................................................\n",
            "[CV] .................................... n_neighbors=5, total=   0.0s\n",
            "[CV] n_neighbors=5 ...................................................\n",
            "[CV] .................................... n_neighbors=5, total=   0.0s\n",
            "[CV] n_neighbors=6 ...................................................\n",
            "[CV] .................................... n_neighbors=6, total=   0.0s\n",
            "[CV] n_neighbors=6 ...................................................\n",
            "[CV] .................................... n_neighbors=6, total=   0.0s\n",
            "[CV] n_neighbors=6 ...................................................\n",
            "[CV] .................................... n_neighbors=6, total=   0.0s\n",
            "[CV] n_neighbors=6 ...................................................\n",
            "[CV] .................................... n_neighbors=6, total=   0.0s\n",
            "[CV] n_neighbors=6 ...................................................\n",
            "[CV] .................................... n_neighbors=6, total=   0.0s\n",
            "[CV] n_neighbors=6 ...................................................\n",
            "[CV] .................................... n_neighbors=6, total=   0.0s\n",
            "[CV] n_neighbors=6 ...................................................\n",
            "[CV] .................................... n_neighbors=6, total=   0.0s\n",
            "[CV] n_neighbors=6 ...................................................\n",
            "[CV] .................................... n_neighbors=6, total=   0.0s\n",
            "[CV] n_neighbors=6 ...................................................\n",
            "[CV] .................................... n_neighbors=6, total=   0.0s\n",
            "[CV] n_neighbors=6 ...................................................\n",
            "[CV] .................................... n_neighbors=6, total=   0.0s\n",
            "[CV] n_neighbors=7 ...................................................\n",
            "[CV] .................................... n_neighbors=7, total=   0.0s\n",
            "[CV] n_neighbors=7 ...................................................\n",
            "[CV] .................................... n_neighbors=7, total=   0.0s\n",
            "[CV] n_neighbors=7 ...................................................\n",
            "[CV] .................................... n_neighbors=7, total=   0.0s\n",
            "[CV] n_neighbors=7 ...................................................\n",
            "[CV] .................................... n_neighbors=7, total=   0.0s\n",
            "[CV] n_neighbors=7 ...................................................\n",
            "[CV] .................................... n_neighbors=7, total=   0.0s\n",
            "[CV] n_neighbors=7 ...................................................\n",
            "[CV] .................................... n_neighbors=7, total=   0.0s\n",
            "[CV] n_neighbors=7 ...................................................\n",
            "[CV] .................................... n_neighbors=7, total=   0.0s\n",
            "[CV] n_neighbors=7 ...................................................\n",
            "[CV] .................................... n_neighbors=7, total=   0.0s\n",
            "[CV] n_neighbors=7 ...................................................\n",
            "[CV] .................................... n_neighbors=7, total=   0.0s\n",
            "[CV] n_neighbors=7 ...................................................\n",
            "[CV] .................................... n_neighbors=7, total=   0.0s\n",
            "[CV] n_neighbors=8 ...................................................\n",
            "[CV] .................................... n_neighbors=8, total=   0.0s\n",
            "[CV] n_neighbors=8 ...................................................\n",
            "[CV] .................................... n_neighbors=8, total=   0.0s\n",
            "[CV] n_neighbors=8 ...................................................\n",
            "[CV] .................................... n_neighbors=8, total=   0.0s\n",
            "[CV] n_neighbors=8 ...................................................\n",
            "[CV] .................................... n_neighbors=8, total=   0.0s\n",
            "[CV] n_neighbors=8 ...................................................\n",
            "[CV] .................................... n_neighbors=8, total=   0.0s\n",
            "[CV] n_neighbors=8 ...................................................\n",
            "[CV] .................................... n_neighbors=8, total=   0.0s\n",
            "[CV] n_neighbors=8 ...................................................\n",
            "[CV] .................................... n_neighbors=8, total=   0.0s\n",
            "[CV] n_neighbors=8 ...................................................\n",
            "[CV] .................................... n_neighbors=8, total=   0.0s\n",
            "[CV] n_neighbors=8 ...................................................\n",
            "[CV] .................................... n_neighbors=8, total=   0.0s\n",
            "[CV] n_neighbors=8 ...................................................\n",
            "[CV] .................................... n_neighbors=8, total=   0.0s\n",
            "[CV] n_neighbors=9 ...................................................\n",
            "[CV] .................................... n_neighbors=9, total=   0.0s\n",
            "[CV] n_neighbors=9 ...................................................\n",
            "[CV] .................................... n_neighbors=9, total=   0.0s\n",
            "[CV] n_neighbors=9 ...................................................\n",
            "[CV] .................................... n_neighbors=9, total=   0.0s\n",
            "[CV] n_neighbors=9 ...................................................\n",
            "[CV] .................................... n_neighbors=9, total=   0.0s\n",
            "[CV] n_neighbors=9 ...................................................\n",
            "[CV] .................................... n_neighbors=9, total=   0.0s\n",
            "[CV] n_neighbors=9 ...................................................\n",
            "[CV] .................................... n_neighbors=9, total=   0.0s\n",
            "[CV] n_neighbors=9 ...................................................\n",
            "[CV] .................................... n_neighbors=9, total=   0.0s\n",
            "[CV] n_neighbors=9 ...................................................\n",
            "[CV] .................................... n_neighbors=9, total=   0.0s\n",
            "[CV] n_neighbors=9 ...................................................\n",
            "[CV] .................................... n_neighbors=9, total=   0.0s\n",
            "[CV] n_neighbors=9 ...................................................\n",
            "[CV] .................................... n_neighbors=9, total=   0.0s\n",
            "[CV] n_neighbors=10 ..................................................\n",
            "[CV] ................................... n_neighbors=10, total=   0.0s\n",
            "[CV] n_neighbors=10 ..................................................\n",
            "[CV] ................................... n_neighbors=10, total=   0.0s\n",
            "[CV] n_neighbors=10 ..................................................\n",
            "[CV] ................................... n_neighbors=10, total=   0.0s\n",
            "[CV] n_neighbors=10 ..................................................\n",
            "[CV] ................................... n_neighbors=10, total=   0.0s\n",
            "[CV] n_neighbors=10 ..................................................\n",
            "[CV] ................................... n_neighbors=10, total=   0.0s\n",
            "[CV] n_neighbors=10 ..................................................\n",
            "[CV] ................................... n_neighbors=10, total=   0.0s\n",
            "[CV] n_neighbors=10 ..................................................\n",
            "[CV] ................................... n_neighbors=10, total=   0.0s\n",
            "[CV] n_neighbors=10 ..................................................\n",
            "[CV] ................................... n_neighbors=10, total=   0.0s\n",
            "[CV] n_neighbors=10 ..................................................\n",
            "[CV] ................................... n_neighbors=10, total=   0.0s\n",
            "[CV] n_neighbors=10 ..................................................\n",
            "[CV] ................................... n_neighbors=10, total=   0.0s\n",
            "[CV] n_neighbors=11 ..................................................\n",
            "[CV] ................................... n_neighbors=11, total=   0.0s\n",
            "[CV] n_neighbors=11 ..................................................\n",
            "[CV] ................................... n_neighbors=11, total=   0.0s\n",
            "[CV] n_neighbors=11 ..................................................\n",
            "[CV] ................................... n_neighbors=11, total=   0.0s\n",
            "[CV] n_neighbors=11 ..................................................\n",
            "[CV] ................................... n_neighbors=11, total=   0.0s\n",
            "[CV] n_neighbors=11 ..................................................\n",
            "[CV] ................................... n_neighbors=11, total=   0.0s\n",
            "[CV] n_neighbors=11 ..................................................\n",
            "[CV] ................................... n_neighbors=11, total=   0.0s\n",
            "[CV] n_neighbors=11 ..................................................\n",
            "[CV] ................................... n_neighbors=11, total=   0.0s\n",
            "[CV] n_neighbors=11 ..................................................\n",
            "[CV] ................................... n_neighbors=11, total=   0.0s\n",
            "[CV] n_neighbors=11 ..................................................\n",
            "[CV] ................................... n_neighbors=11, total=   0.0s\n",
            "[CV] n_neighbors=11 ..................................................\n",
            "[CV] ................................... n_neighbors=11, total=   0.0s\n",
            "[CV] n_neighbors=12 ..................................................\n",
            "[CV] ................................... n_neighbors=12, total=   0.0s\n",
            "[CV] n_neighbors=12 ..................................................\n",
            "[CV] ................................... n_neighbors=12, total=   0.0s\n",
            "[CV] n_neighbors=12 ..................................................\n",
            "[CV] ................................... n_neighbors=12, total=   0.0s\n",
            "[CV] n_neighbors=12 ..................................................\n",
            "[CV] ................................... n_neighbors=12, total=   0.0s\n",
            "[CV] n_neighbors=12 ..................................................\n",
            "[CV] ................................... n_neighbors=12, total=   0.0s\n",
            "[CV] n_neighbors=12 ..................................................\n",
            "[CV] ................................... n_neighbors=12, total=   0.0s\n",
            "[CV] n_neighbors=12 ..................................................\n",
            "[CV] ................................... n_neighbors=12, total=   0.0s\n",
            "[CV] n_neighbors=12 ..................................................\n",
            "[CV] ................................... n_neighbors=12, total=   0.0s\n",
            "[CV] n_neighbors=12 ..................................................\n",
            "[CV] ................................... n_neighbors=12, total=   0.0s\n",
            "[CV] n_neighbors=12 ..................................................\n",
            "[CV] ................................... n_neighbors=12, total=   0.0s\n",
            "[CV] n_neighbors=13 ..................................................\n",
            "[CV] ................................... n_neighbors=13, total=   0.0s\n",
            "[CV] n_neighbors=13 ..................................................\n",
            "[CV] ................................... n_neighbors=13, total=   0.0s\n",
            "[CV] n_neighbors=13 ..................................................\n",
            "[CV] ................................... n_neighbors=13, total=   0.0s\n",
            "[CV] n_neighbors=13 ..................................................\n",
            "[CV] ................................... n_neighbors=13, total=   0.0s\n",
            "[CV] n_neighbors=13 ..................................................\n",
            "[CV] ................................... n_neighbors=13, total=   0.0s\n",
            "[CV] n_neighbors=13 ..................................................\n",
            "[CV] ................................... n_neighbors=13, total=   0.0s\n",
            "[CV] n_neighbors=13 ..................................................\n",
            "[CV] ................................... n_neighbors=13, total=   0.0s\n",
            "[CV] n_neighbors=13 ..................................................\n",
            "[CV] ................................... n_neighbors=13, total=   0.0s\n",
            "[CV] n_neighbors=13 ..................................................\n",
            "[CV] ................................... n_neighbors=13, total=   0.0s\n",
            "[CV] n_neighbors=13 ..................................................\n",
            "[CV] ................................... n_neighbors=13, total=   0.0s\n",
            "[CV] n_neighbors=14 ..................................................\n",
            "[CV] ................................... n_neighbors=14, total=   0.0s\n",
            "[CV] n_neighbors=14 ..................................................\n",
            "[CV] ................................... n_neighbors=14, total=   0.0s\n",
            "[CV] n_neighbors=14 ..................................................\n",
            "[CV] ................................... n_neighbors=14, total=   0.0s\n",
            "[CV] n_neighbors=14 ..................................................\n",
            "[CV] ................................... n_neighbors=14, total=   0.0s\n",
            "[CV] n_neighbors=14 ..................................................\n",
            "[CV] ................................... n_neighbors=14, total=   0.0s\n",
            "[CV] n_neighbors=14 ..................................................\n",
            "[CV] ................................... n_neighbors=14, total=   0.0s\n",
            "[CV] n_neighbors=14 ..................................................\n",
            "[CV] ................................... n_neighbors=14, total=   0.0s\n",
            "[CV] n_neighbors=14 ..................................................\n",
            "[CV] ................................... n_neighbors=14, total=   0.0s\n",
            "[CV] n_neighbors=14 ..................................................\n",
            "[CV] ................................... n_neighbors=14, total=   0.0s\n",
            "[CV] n_neighbors=14 ..................................................\n",
            "[CV] ................................... n_neighbors=14, total=   0.0s\n",
            "[CV] n_neighbors=15 ..................................................\n",
            "[CV] ................................... n_neighbors=15, total=   0.0s\n",
            "[CV] n_neighbors=15 ..................................................\n",
            "[CV] ................................... n_neighbors=15, total=   0.0s\n",
            "[CV] n_neighbors=15 ..................................................\n",
            "[CV] ................................... n_neighbors=15, total=   0.0s\n",
            "[CV] n_neighbors=15 ..................................................\n",
            "[CV] ................................... n_neighbors=15, total=   0.0s\n",
            "[CV] n_neighbors=15 ..................................................\n",
            "[CV] ................................... n_neighbors=15, total=   0.0s\n",
            "[CV] n_neighbors=15 ..................................................\n",
            "[CV] ................................... n_neighbors=15, total=   0.0s\n",
            "[CV] n_neighbors=15 ..................................................\n",
            "[CV] ................................... n_neighbors=15, total=   0.0s\n",
            "[CV] n_neighbors=15 ..................................................\n",
            "[CV] ................................... n_neighbors=15, total=   0.0s\n",
            "[CV] n_neighbors=15 ..................................................\n",
            "[CV] ................................... n_neighbors=15, total=   0.0s\n",
            "[CV] n_neighbors=15 ..................................................\n",
            "[CV] ................................... n_neighbors=15, total=   0.0s\n",
            "[CV] n_neighbors=16 ..................................................\n",
            "[CV] ................................... n_neighbors=16, total=   0.0s\n",
            "[CV] n_neighbors=16 ..................................................\n",
            "[CV] ................................... n_neighbors=16, total=   0.0s\n",
            "[CV] n_neighbors=16 ..................................................\n",
            "[CV] ................................... n_neighbors=16, total=   0.0s\n",
            "[CV] n_neighbors=16 ..................................................\n",
            "[CV] ................................... n_neighbors=16, total=   0.0s\n",
            "[CV] n_neighbors=16 ..................................................\n",
            "[CV] ................................... n_neighbors=16, total=   0.0s\n",
            "[CV] n_neighbors=16 ..................................................\n",
            "[CV] ................................... n_neighbors=16, total=   0.0s\n",
            "[CV] n_neighbors=16 ..................................................\n",
            "[CV] ................................... n_neighbors=16, total=   0.0s\n",
            "[CV] n_neighbors=16 ..................................................\n",
            "[CV] ................................... n_neighbors=16, total=   0.0s\n",
            "[CV] n_neighbors=16 ..................................................\n",
            "[CV] ................................... n_neighbors=16, total=   0.0s\n",
            "[CV] n_neighbors=16 ..................................................\n",
            "[CV] ................................... n_neighbors=16, total=   0.0s\n",
            "[CV] n_neighbors=17 ..................................................\n",
            "[CV] ................................... n_neighbors=17, total=   0.0s\n",
            "[CV] n_neighbors=17 ..................................................\n",
            "[CV] ................................... n_neighbors=17, total=   0.0s\n",
            "[CV] n_neighbors=17 ..................................................\n",
            "[CV] ................................... n_neighbors=17, total=   0.0s\n",
            "[CV] n_neighbors=17 ..................................................\n",
            "[CV] ................................... n_neighbors=17, total=   0.0s\n",
            "[CV] n_neighbors=17 ..................................................\n",
            "[CV] ................................... n_neighbors=17, total=   0.0s\n",
            "[CV] n_neighbors=17 ..................................................\n",
            "[CV] ................................... n_neighbors=17, total=   0.0s\n",
            "[CV] n_neighbors=17 ..................................................\n",
            "[CV] ................................... n_neighbors=17, total=   0.0s\n",
            "[CV] n_neighbors=17 ..................................................\n",
            "[CV] ................................... n_neighbors=17, total=   0.0s\n",
            "[CV] n_neighbors=17 ..................................................\n",
            "[CV] ................................... n_neighbors=17, total=   0.0s\n",
            "[CV] n_neighbors=17 ..................................................\n",
            "[CV] ................................... n_neighbors=17, total=   0.0s\n",
            "[CV] n_neighbors=18 ..................................................\n",
            "[CV] ................................... n_neighbors=18, total=   0.0s\n",
            "[CV] n_neighbors=18 ..................................................\n",
            "[CV] ................................... n_neighbors=18, total=   0.0s\n",
            "[CV] n_neighbors=18 ..................................................\n",
            "[CV] ................................... n_neighbors=18, total=   0.0s\n",
            "[CV] n_neighbors=18 ..................................................\n",
            "[CV] ................................... n_neighbors=18, total=   0.0s\n",
            "[CV] n_neighbors=18 ..................................................\n",
            "[CV] ................................... n_neighbors=18, total=   0.0s\n",
            "[CV] n_neighbors=18 ..................................................\n",
            "[CV] ................................... n_neighbors=18, total=   0.0s\n",
            "[CV] n_neighbors=18 ..................................................\n",
            "[CV] ................................... n_neighbors=18, total=   0.0s\n",
            "[CV] n_neighbors=18 ..................................................\n",
            "[CV] ................................... n_neighbors=18, total=   0.0s\n",
            "[CV] n_neighbors=18 ..................................................\n",
            "[CV] ................................... n_neighbors=18, total=   0.0s\n",
            "[CV] n_neighbors=18 ..................................................\n",
            "[CV] ................................... n_neighbors=18, total=   0.0s\n",
            "[CV] n_neighbors=19 ..................................................\n",
            "[CV] ................................... n_neighbors=19, total=   0.0s\n",
            "[CV] n_neighbors=19 ..................................................\n",
            "[CV] ................................... n_neighbors=19, total=   0.0s\n",
            "[CV] n_neighbors=19 ..................................................\n",
            "[CV] ................................... n_neighbors=19, total=   0.0s\n",
            "[CV] n_neighbors=19 ..................................................\n",
            "[CV] ................................... n_neighbors=19, total=   0.0s\n",
            "[CV] n_neighbors=19 ..................................................\n",
            "[CV] ................................... n_neighbors=19, total=   0.0s\n",
            "[CV] n_neighbors=19 ..................................................\n",
            "[CV] ................................... n_neighbors=19, total=   0.0s\n",
            "[CV] n_neighbors=19 ..................................................\n",
            "[CV] ................................... n_neighbors=19, total=   0.0s\n",
            "[CV] n_neighbors=19 ..................................................\n",
            "[CV] ................................... n_neighbors=19, total=   0.0s\n",
            "[CV] n_neighbors=19 ..................................................\n",
            "[CV] ................................... n_neighbors=19, total=   0.0s\n",
            "[CV] n_neighbors=19 ..................................................\n",
            "[CV] ................................... n_neighbors=19, total=   0.0s\n",
            "[CV] n_neighbors=20 ..................................................\n",
            "[CV] ................................... n_neighbors=20, total=   0.0s\n",
            "[CV] n_neighbors=20 ..................................................\n",
            "[CV] ................................... n_neighbors=20, total=   0.0s\n",
            "[CV] n_neighbors=20 ..................................................\n",
            "[CV] ................................... n_neighbors=20, total=   0.0s\n",
            "[CV] n_neighbors=20 ..................................................\n",
            "[CV] ................................... n_neighbors=20, total=   0.0s\n",
            "[CV] n_neighbors=20 ..................................................\n",
            "[CV] ................................... n_neighbors=20, total=   0.0s\n",
            "[CV] n_neighbors=20 ..................................................\n",
            "[CV] ................................... n_neighbors=20, total=   0.0s\n",
            "[CV] n_neighbors=20 ..................................................\n",
            "[CV] ................................... n_neighbors=20, total=   0.0s\n",
            "[CV] n_neighbors=20 ..................................................\n",
            "[CV] ................................... n_neighbors=20, total=   0.0s\n",
            "[CV] n_neighbors=20 ..................................................\n",
            "[CV] ................................... n_neighbors=20, total=   0.0s\n",
            "[CV] n_neighbors=20 ..................................................\n",
            "[CV] ................................... n_neighbors=20, total=   0.0s\n",
            "[CV] n_neighbors=21 ..................................................\n",
            "[CV] ................................... n_neighbors=21, total=   0.0s\n",
            "[CV] n_neighbors=21 ..................................................\n",
            "[CV] ................................... n_neighbors=21, total=   0.0s\n",
            "[CV] n_neighbors=21 ..................................................\n",
            "[CV] ................................... n_neighbors=21, total=   0.0s\n",
            "[CV] n_neighbors=21 ..................................................\n",
            "[CV] ................................... n_neighbors=21, total=   0.0s\n",
            "[CV] n_neighbors=21 ..................................................\n",
            "[CV] ................................... n_neighbors=21, total=   0.0s\n",
            "[CV] n_neighbors=21 ..................................................\n",
            "[CV] ................................... n_neighbors=21, total=   0.0s\n",
            "[CV] n_neighbors=21 ..................................................\n",
            "[CV] ................................... n_neighbors=21, total=   0.0s\n",
            "[CV] n_neighbors=21 ..................................................\n",
            "[CV] ................................... n_neighbors=21, total=   0.0s\n",
            "[CV] n_neighbors=21 ..................................................\n",
            "[CV] ................................... n_neighbors=21, total=   0.0s\n",
            "[CV] n_neighbors=21 ..................................................\n",
            "[CV] ................................... n_neighbors=21, total=   0.0s\n",
            "[CV] n_neighbors=22 ..................................................\n",
            "[CV] ................................... n_neighbors=22, total=   0.0s\n",
            "[CV] n_neighbors=22 ..................................................\n",
            "[CV] ................................... n_neighbors=22, total=   0.0s\n",
            "[CV] n_neighbors=22 ..................................................\n",
            "[CV] ................................... n_neighbors=22, total=   0.0s\n",
            "[CV] n_neighbors=22 ..................................................\n",
            "[CV] ................................... n_neighbors=22, total=   0.0s\n",
            "[CV] n_neighbors=22 ..................................................\n",
            "[CV] ................................... n_neighbors=22, total=   0.0s\n",
            "[CV] n_neighbors=22 ..................................................\n",
            "[CV] ................................... n_neighbors=22, total=   0.0s\n",
            "[CV] n_neighbors=22 ..................................................\n",
            "[CV] ................................... n_neighbors=22, total=   0.0s\n",
            "[CV] n_neighbors=22 ..................................................\n",
            "[CV] ................................... n_neighbors=22, total=   0.0s\n",
            "[CV] n_neighbors=22 ..................................................\n",
            "[CV] ................................... n_neighbors=22, total=   0.0s\n",
            "[CV] n_neighbors=22 ..................................................\n",
            "[CV] ................................... n_neighbors=22, total=   0.0s\n",
            "[CV] n_neighbors=23 ..................................................\n",
            "[CV] ................................... n_neighbors=23, total=   0.0s\n",
            "[CV] n_neighbors=23 ..................................................\n",
            "[CV] ................................... n_neighbors=23, total=   0.0s\n",
            "[CV] n_neighbors=23 ..................................................\n",
            "[CV] ................................... n_neighbors=23, total=   0.0s\n",
            "[CV] n_neighbors=23 ..................................................\n",
            "[CV] ................................... n_neighbors=23, total=   0.0s\n",
            "[CV] n_neighbors=23 ..................................................\n",
            "[CV] ................................... n_neighbors=23, total=   0.0s\n",
            "[CV] n_neighbors=23 ..................................................\n",
            "[CV] ................................... n_neighbors=23, total=   0.0s\n",
            "[CV] n_neighbors=23 ..................................................\n",
            "[CV] ................................... n_neighbors=23, total=   0.0s\n",
            "[CV] n_neighbors=23 ..................................................\n",
            "[CV] ................................... n_neighbors=23, total=   0.0s\n",
            "[CV] n_neighbors=23 ..................................................\n",
            "[CV] ................................... n_neighbors=23, total=   0.0s\n",
            "[CV] n_neighbors=23 ..................................................\n",
            "[CV] ................................... n_neighbors=23, total=   0.0s\n",
            "[CV] n_neighbors=24 ..................................................\n",
            "[CV] ................................... n_neighbors=24, total=   0.0s\n",
            "[CV] n_neighbors=24 ..................................................\n",
            "[CV] ................................... n_neighbors=24, total=   0.0s\n",
            "[CV] n_neighbors=24 ..................................................\n",
            "[CV] ................................... n_neighbors=24, total=   0.0s\n",
            "[CV] n_neighbors=24 ..................................................\n",
            "[CV] ................................... n_neighbors=24, total=   0.0s\n",
            "[CV] n_neighbors=24 ..................................................\n",
            "[CV] ................................... n_neighbors=24, total=   0.0s\n",
            "[CV] n_neighbors=24 ..................................................\n",
            "[CV] ................................... n_neighbors=24, total=   0.0s\n",
            "[CV] n_neighbors=24 ..................................................\n",
            "[CV] ................................... n_neighbors=24, total=   0.0s\n",
            "[CV] n_neighbors=24 ..................................................\n",
            "[CV] ................................... n_neighbors=24, total=   0.0s\n",
            "[CV] n_neighbors=24 ..................................................\n",
            "[CV] ................................... n_neighbors=24, total=   0.0s\n",
            "[CV] n_neighbors=24 ..................................................\n",
            "[CV] ................................... n_neighbors=24, total=   0.0s\n",
            "0.796\n",
            "{'n_neighbors': 20}\n",
            "              precision    recall  f1-score   support\n",
            "\n",
            "           0       0.67      0.84      0.75       256\n",
            "           1       0.78      0.57      0.66       244\n",
            "\n",
            "    accuracy                           0.71       500\n",
            "   macro avg       0.72      0.71      0.70       500\n",
            "weighted avg       0.72      0.71      0.70       500\n",
            "\n",
            "[[216  40]\n",
            " [105 139]]\n"
          ],
          "name": "stdout"
        },
        {
          "output_type": "stream",
          "text": [
            "[Parallel(n_jobs=1)]: Done 240 out of 240 | elapsed:    2.6s finished\n"
          ],
          "name": "stderr"
        }
      ]
    },
    {
      "cell_type": "code",
      "metadata": {
        "id": "lt5ZV8tN9bFK",
        "outputId": "dffd24aa-bded-49ce-857f-d52b0f44584b",
        "colab": {
          "base_uri": "https://localhost:8080/"
        }
      },
      "source": [
        "knn3 = KNeighborsClassifier()\r\n",
        "param_grid2 = {'n_neighbors': np.arange(1,25)}\r\n",
        "knn_cv2 = GridSearchCV(knn3, param_grid2, cv=10, scoring=f1, verbose=2)\r\n",
        "knn_cv2.fit(x_train, y_train)\r\n",
        "print(knn_cv2.best_score_)\r\n",
        "print(knn_cv2.best_params_)\r\n",
        "pred_knn3 = knn_cv2.predict(x_test)\r\n",
        "print(classification_report(y_test, pred_knn3))\r\n",
        "print(confusion_matrix(y_test, pred_knn3))"
      ],
      "execution_count": 46,
      "outputs": [
        {
          "output_type": "stream",
          "text": [
            "Fitting 10 folds for each of 24 candidates, totalling 240 fits\n",
            "[CV] n_neighbors=1 ...................................................\n",
            "[CV] .................................... n_neighbors=1, total=   0.0s\n",
            "[CV] n_neighbors=1 ...................................................\n",
            "[CV] .................................... n_neighbors=1, total=   0.0s\n",
            "[CV] n_neighbors=1 ...................................................\n",
            "[CV] .................................... n_neighbors=1, total=   0.0s\n",
            "[CV] n_neighbors=1 ...................................................\n",
            "[CV] .................................... n_neighbors=1, total=   0.0s\n",
            "[CV] n_neighbors=1 ...................................................\n",
            "[CV] .................................... n_neighbors=1, total=   0.0s\n",
            "[CV] n_neighbors=1 ...................................................\n",
            "[CV] .................................... n_neighbors=1, total=   0.0s\n",
            "[CV] n_neighbors=1 ...................................................\n",
            "[CV] .................................... n_neighbors=1, total=   0.0s\n",
            "[CV] n_neighbors=1 ...................................................\n",
            "[CV] .................................... n_neighbors=1, total=   0.0s\n",
            "[CV] n_neighbors=1 ...................................................\n",
            "[CV] .................................... n_neighbors=1, total=   0.0s\n",
            "[CV] n_neighbors=1 ...................................................\n",
            "[CV] .................................... n_neighbors=1, total=   0.0s\n",
            "[CV] n_neighbors=2 ...................................................\n",
            "[CV] .................................... n_neighbors=2, total=   0.0s\n",
            "[CV] n_neighbors=2 ...................................................\n",
            "[CV] .................................... n_neighbors=2, total=   0.0s\n",
            "[CV] n_neighbors=2 ...................................................\n",
            "[CV] .................................... n_neighbors=2, total=   0.0s\n",
            "[CV] n_neighbors=2 ...................................................\n",
            "[CV] .................................... n_neighbors=2, total=   0.0s\n",
            "[CV] n_neighbors=2 ...................................................\n",
            "[CV] .................................... n_neighbors=2, total=   0.0s\n",
            "[CV] n_neighbors=2 ...................................................\n",
            "[CV] .................................... n_neighbors=2, total=   0.0s\n",
            "[CV] n_neighbors=2 ...................................................\n",
            "[CV] .................................... n_neighbors=2, total=   0.0s\n",
            "[CV] n_neighbors=2 ...................................................\n",
            "[CV] .................................... n_neighbors=2, total=   0.0s\n",
            "[CV] n_neighbors=2 ...................................................\n",
            "[CV] .................................... n_neighbors=2, total=   0.0s\n",
            "[CV] n_neighbors=2 ...................................................\n",
            "[CV] .................................... n_neighbors=2, total=   0.0s\n",
            "[CV] n_neighbors=3 ...................................................\n"
          ],
          "name": "stdout"
        },
        {
          "output_type": "stream",
          "text": [
            "[Parallel(n_jobs=1)]: Using backend SequentialBackend with 1 concurrent workers.\n",
            "[Parallel(n_jobs=1)]: Done   1 out of   1 | elapsed:    0.0s remaining:    0.0s\n"
          ],
          "name": "stderr"
        },
        {
          "output_type": "stream",
          "text": [
            "[CV] .................................... n_neighbors=3, total=   0.0s\n",
            "[CV] n_neighbors=3 ...................................................\n",
            "[CV] .................................... n_neighbors=3, total=   0.0s\n",
            "[CV] n_neighbors=3 ...................................................\n",
            "[CV] .................................... n_neighbors=3, total=   0.0s\n",
            "[CV] n_neighbors=3 ...................................................\n",
            "[CV] .................................... n_neighbors=3, total=   0.0s\n",
            "[CV] n_neighbors=3 ...................................................\n",
            "[CV] .................................... n_neighbors=3, total=   0.0s\n",
            "[CV] n_neighbors=3 ...................................................\n",
            "[CV] .................................... n_neighbors=3, total=   0.0s\n",
            "[CV] n_neighbors=3 ...................................................\n",
            "[CV] .................................... n_neighbors=3, total=   0.0s\n",
            "[CV] n_neighbors=3 ...................................................\n",
            "[CV] .................................... n_neighbors=3, total=   0.0s\n",
            "[CV] n_neighbors=3 ...................................................\n",
            "[CV] .................................... n_neighbors=3, total=   0.0s\n",
            "[CV] n_neighbors=3 ...................................................\n",
            "[CV] .................................... n_neighbors=3, total=   0.0s\n",
            "[CV] n_neighbors=4 ...................................................\n",
            "[CV] .................................... n_neighbors=4, total=   0.0s\n",
            "[CV] n_neighbors=4 ...................................................\n",
            "[CV] .................................... n_neighbors=4, total=   0.0s\n",
            "[CV] n_neighbors=4 ...................................................\n",
            "[CV] .................................... n_neighbors=4, total=   0.0s\n",
            "[CV] n_neighbors=4 ...................................................\n",
            "[CV] .................................... n_neighbors=4, total=   0.0s\n",
            "[CV] n_neighbors=4 ...................................................\n",
            "[CV] .................................... n_neighbors=4, total=   0.0s\n",
            "[CV] n_neighbors=4 ...................................................\n",
            "[CV] .................................... n_neighbors=4, total=   0.0s\n",
            "[CV] n_neighbors=4 ...................................................\n",
            "[CV] .................................... n_neighbors=4, total=   0.0s\n",
            "[CV] n_neighbors=4 ...................................................\n",
            "[CV] .................................... n_neighbors=4, total=   0.0s\n",
            "[CV] n_neighbors=4 ...................................................\n",
            "[CV] .................................... n_neighbors=4, total=   0.0s\n",
            "[CV] n_neighbors=4 ...................................................\n",
            "[CV] .................................... n_neighbors=4, total=   0.0s\n",
            "[CV] n_neighbors=5 ...................................................\n",
            "[CV] .................................... n_neighbors=5, total=   0.0s\n",
            "[CV] n_neighbors=5 ...................................................\n",
            "[CV] .................................... n_neighbors=5, total=   0.0s\n",
            "[CV] n_neighbors=5 ...................................................\n",
            "[CV] .................................... n_neighbors=5, total=   0.0s\n",
            "[CV] n_neighbors=5 ...................................................\n",
            "[CV] .................................... n_neighbors=5, total=   0.0s\n",
            "[CV] n_neighbors=5 ...................................................\n",
            "[CV] .................................... n_neighbors=5, total=   0.0s\n",
            "[CV] n_neighbors=5 ...................................................\n",
            "[CV] .................................... n_neighbors=5, total=   0.0s\n",
            "[CV] n_neighbors=5 ...................................................\n",
            "[CV] .................................... n_neighbors=5, total=   0.0s\n",
            "[CV] n_neighbors=5 ...................................................\n",
            "[CV] .................................... n_neighbors=5, total=   0.0s\n",
            "[CV] n_neighbors=5 ...................................................\n",
            "[CV] .................................... n_neighbors=5, total=   0.0s\n",
            "[CV] n_neighbors=5 ...................................................\n",
            "[CV] .................................... n_neighbors=5, total=   0.0s\n",
            "[CV] n_neighbors=6 ...................................................\n",
            "[CV] .................................... n_neighbors=6, total=   0.0s\n",
            "[CV] n_neighbors=6 ...................................................\n",
            "[CV] .................................... n_neighbors=6, total=   0.0s\n",
            "[CV] n_neighbors=6 ...................................................\n",
            "[CV] .................................... n_neighbors=6, total=   0.0s\n",
            "[CV] n_neighbors=6 ...................................................\n",
            "[CV] .................................... n_neighbors=6, total=   0.0s\n",
            "[CV] n_neighbors=6 ...................................................\n",
            "[CV] .................................... n_neighbors=6, total=   0.0s\n",
            "[CV] n_neighbors=6 ...................................................\n",
            "[CV] .................................... n_neighbors=6, total=   0.0s\n",
            "[CV] n_neighbors=6 ...................................................\n",
            "[CV] .................................... n_neighbors=6, total=   0.0s\n",
            "[CV] n_neighbors=6 ...................................................\n",
            "[CV] .................................... n_neighbors=6, total=   0.0s\n",
            "[CV] n_neighbors=6 ...................................................\n",
            "[CV] .................................... n_neighbors=6, total=   0.0s\n",
            "[CV] n_neighbors=6 ...................................................\n",
            "[CV] .................................... n_neighbors=6, total=   0.0s\n",
            "[CV] n_neighbors=7 ...................................................\n",
            "[CV] .................................... n_neighbors=7, total=   0.0s\n",
            "[CV] n_neighbors=7 ...................................................\n",
            "[CV] .................................... n_neighbors=7, total=   0.0s\n",
            "[CV] n_neighbors=7 ...................................................\n",
            "[CV] .................................... n_neighbors=7, total=   0.0s\n",
            "[CV] n_neighbors=7 ...................................................\n",
            "[CV] .................................... n_neighbors=7, total=   0.0s\n",
            "[CV] n_neighbors=7 ...................................................\n",
            "[CV] .................................... n_neighbors=7, total=   0.0s\n",
            "[CV] n_neighbors=7 ...................................................\n",
            "[CV] .................................... n_neighbors=7, total=   0.0s\n",
            "[CV] n_neighbors=7 ...................................................\n",
            "[CV] .................................... n_neighbors=7, total=   0.0s\n",
            "[CV] n_neighbors=7 ...................................................\n",
            "[CV] .................................... n_neighbors=7, total=   0.0s\n",
            "[CV] n_neighbors=7 ...................................................\n",
            "[CV] .................................... n_neighbors=7, total=   0.0s\n",
            "[CV] n_neighbors=7 ...................................................\n",
            "[CV] .................................... n_neighbors=7, total=   0.0s\n",
            "[CV] n_neighbors=8 ...................................................\n",
            "[CV] .................................... n_neighbors=8, total=   0.0s\n",
            "[CV] n_neighbors=8 ...................................................\n",
            "[CV] .................................... n_neighbors=8, total=   0.0s\n",
            "[CV] n_neighbors=8 ...................................................\n",
            "[CV] .................................... n_neighbors=8, total=   0.0s\n",
            "[CV] n_neighbors=8 ...................................................\n",
            "[CV] .................................... n_neighbors=8, total=   0.0s\n",
            "[CV] n_neighbors=8 ...................................................\n",
            "[CV] .................................... n_neighbors=8, total=   0.0s\n",
            "[CV] n_neighbors=8 ...................................................\n",
            "[CV] .................................... n_neighbors=8, total=   0.0s\n",
            "[CV] n_neighbors=8 ...................................................\n",
            "[CV] .................................... n_neighbors=8, total=   0.0s\n",
            "[CV] n_neighbors=8 ...................................................\n",
            "[CV] .................................... n_neighbors=8, total=   0.0s\n",
            "[CV] n_neighbors=8 ...................................................\n",
            "[CV] .................................... n_neighbors=8, total=   0.0s\n",
            "[CV] n_neighbors=8 ...................................................\n",
            "[CV] .................................... n_neighbors=8, total=   0.0s\n",
            "[CV] n_neighbors=9 ...................................................\n",
            "[CV] .................................... n_neighbors=9, total=   0.0s\n",
            "[CV] n_neighbors=9 ...................................................\n",
            "[CV] .................................... n_neighbors=9, total=   0.0s\n",
            "[CV] n_neighbors=9 ...................................................\n",
            "[CV] .................................... n_neighbors=9, total=   0.0s\n",
            "[CV] n_neighbors=9 ...................................................\n",
            "[CV] .................................... n_neighbors=9, total=   0.0s\n",
            "[CV] n_neighbors=9 ...................................................\n",
            "[CV] .................................... n_neighbors=9, total=   0.0s\n",
            "[CV] n_neighbors=9 ...................................................\n",
            "[CV] .................................... n_neighbors=9, total=   0.0s\n",
            "[CV] n_neighbors=9 ...................................................\n",
            "[CV] .................................... n_neighbors=9, total=   0.0s\n",
            "[CV] n_neighbors=9 ...................................................\n",
            "[CV] .................................... n_neighbors=9, total=   0.0s\n",
            "[CV] n_neighbors=9 ...................................................\n",
            "[CV] .................................... n_neighbors=9, total=   0.0s\n",
            "[CV] n_neighbors=9 ...................................................\n",
            "[CV] .................................... n_neighbors=9, total=   0.0s\n",
            "[CV] n_neighbors=10 ..................................................\n",
            "[CV] ................................... n_neighbors=10, total=   0.0s\n",
            "[CV] n_neighbors=10 ..................................................\n",
            "[CV] ................................... n_neighbors=10, total=   0.0s\n",
            "[CV] n_neighbors=10 ..................................................\n",
            "[CV] ................................... n_neighbors=10, total=   0.0s\n",
            "[CV] n_neighbors=10 ..................................................\n",
            "[CV] ................................... n_neighbors=10, total=   0.0s\n",
            "[CV] n_neighbors=10 ..................................................\n",
            "[CV] ................................... n_neighbors=10, total=   0.0s\n",
            "[CV] n_neighbors=10 ..................................................\n",
            "[CV] ................................... n_neighbors=10, total=   0.0s\n",
            "[CV] n_neighbors=10 ..................................................\n",
            "[CV] ................................... n_neighbors=10, total=   0.0s\n",
            "[CV] n_neighbors=10 ..................................................\n",
            "[CV] ................................... n_neighbors=10, total=   0.0s\n",
            "[CV] n_neighbors=10 ..................................................\n",
            "[CV] ................................... n_neighbors=10, total=   0.0s\n",
            "[CV] n_neighbors=10 ..................................................\n",
            "[CV] ................................... n_neighbors=10, total=   0.0s\n",
            "[CV] n_neighbors=11 ..................................................\n",
            "[CV] ................................... n_neighbors=11, total=   0.0s\n",
            "[CV] n_neighbors=11 ..................................................\n",
            "[CV] ................................... n_neighbors=11, total=   0.0s\n",
            "[CV] n_neighbors=11 ..................................................\n",
            "[CV] ................................... n_neighbors=11, total=   0.0s\n",
            "[CV] n_neighbors=11 ..................................................\n",
            "[CV] ................................... n_neighbors=11, total=   0.0s\n",
            "[CV] n_neighbors=11 ..................................................\n",
            "[CV] ................................... n_neighbors=11, total=   0.0s\n",
            "[CV] n_neighbors=11 ..................................................\n",
            "[CV] ................................... n_neighbors=11, total=   0.0s\n",
            "[CV] n_neighbors=11 ..................................................\n",
            "[CV] ................................... n_neighbors=11, total=   0.0s\n",
            "[CV] n_neighbors=11 ..................................................\n",
            "[CV] ................................... n_neighbors=11, total=   0.0s\n",
            "[CV] n_neighbors=11 ..................................................\n",
            "[CV] ................................... n_neighbors=11, total=   0.0s\n",
            "[CV] n_neighbors=11 ..................................................\n",
            "[CV] ................................... n_neighbors=11, total=   0.0s\n",
            "[CV] n_neighbors=12 ..................................................\n",
            "[CV] ................................... n_neighbors=12, total=   0.0s\n",
            "[CV] n_neighbors=12 ..................................................\n",
            "[CV] ................................... n_neighbors=12, total=   0.0s\n",
            "[CV] n_neighbors=12 ..................................................\n",
            "[CV] ................................... n_neighbors=12, total=   0.0s\n",
            "[CV] n_neighbors=12 ..................................................\n",
            "[CV] ................................... n_neighbors=12, total=   0.0s\n",
            "[CV] n_neighbors=12 ..................................................\n",
            "[CV] ................................... n_neighbors=12, total=   0.0s\n",
            "[CV] n_neighbors=12 ..................................................\n",
            "[CV] ................................... n_neighbors=12, total=   0.0s\n",
            "[CV] n_neighbors=12 ..................................................\n",
            "[CV] ................................... n_neighbors=12, total=   0.0s\n",
            "[CV] n_neighbors=12 ..................................................\n",
            "[CV] ................................... n_neighbors=12, total=   0.0s\n",
            "[CV] n_neighbors=12 ..................................................\n",
            "[CV] ................................... n_neighbors=12, total=   0.0s\n",
            "[CV] n_neighbors=12 ..................................................\n",
            "[CV] ................................... n_neighbors=12, total=   0.0s\n",
            "[CV] n_neighbors=13 ..................................................\n",
            "[CV] ................................... n_neighbors=13, total=   0.0s\n",
            "[CV] n_neighbors=13 ..................................................\n",
            "[CV] ................................... n_neighbors=13, total=   0.0s\n",
            "[CV] n_neighbors=13 ..................................................\n",
            "[CV] ................................... n_neighbors=13, total=   0.0s\n",
            "[CV] n_neighbors=13 ..................................................\n",
            "[CV] ................................... n_neighbors=13, total=   0.0s\n",
            "[CV] n_neighbors=13 ..................................................\n",
            "[CV] ................................... n_neighbors=13, total=   0.0s\n",
            "[CV] n_neighbors=13 ..................................................\n",
            "[CV] ................................... n_neighbors=13, total=   0.0s\n",
            "[CV] n_neighbors=13 ..................................................\n",
            "[CV] ................................... n_neighbors=13, total=   0.0s\n",
            "[CV] n_neighbors=13 ..................................................\n",
            "[CV] ................................... n_neighbors=13, total=   0.0s\n",
            "[CV] n_neighbors=13 ..................................................\n",
            "[CV] ................................... n_neighbors=13, total=   0.0s\n",
            "[CV] n_neighbors=13 ..................................................\n",
            "[CV] ................................... n_neighbors=13, total=   0.0s\n",
            "[CV] n_neighbors=14 ..................................................\n",
            "[CV] ................................... n_neighbors=14, total=   0.0s\n",
            "[CV] n_neighbors=14 ..................................................\n",
            "[CV] ................................... n_neighbors=14, total=   0.0s\n",
            "[CV] n_neighbors=14 ..................................................\n",
            "[CV] ................................... n_neighbors=14, total=   0.0s\n",
            "[CV] n_neighbors=14 ..................................................\n",
            "[CV] ................................... n_neighbors=14, total=   0.0s\n",
            "[CV] n_neighbors=14 ..................................................\n",
            "[CV] ................................... n_neighbors=14, total=   0.0s\n",
            "[CV] n_neighbors=14 ..................................................\n",
            "[CV] ................................... n_neighbors=14, total=   0.0s\n",
            "[CV] n_neighbors=14 ..................................................\n",
            "[CV] ................................... n_neighbors=14, total=   0.0s\n",
            "[CV] n_neighbors=14 ..................................................\n",
            "[CV] ................................... n_neighbors=14, total=   0.0s\n",
            "[CV] n_neighbors=14 ..................................................\n",
            "[CV] ................................... n_neighbors=14, total=   0.0s\n",
            "[CV] n_neighbors=14 ..................................................\n",
            "[CV] ................................... n_neighbors=14, total=   0.0s\n",
            "[CV] n_neighbors=15 ..................................................\n",
            "[CV] ................................... n_neighbors=15, total=   0.0s\n",
            "[CV] n_neighbors=15 ..................................................\n",
            "[CV] ................................... n_neighbors=15, total=   0.0s\n",
            "[CV] n_neighbors=15 ..................................................\n",
            "[CV] ................................... n_neighbors=15, total=   0.0s\n",
            "[CV] n_neighbors=15 ..................................................\n",
            "[CV] ................................... n_neighbors=15, total=   0.0s\n",
            "[CV] n_neighbors=15 ..................................................\n",
            "[CV] ................................... n_neighbors=15, total=   0.0s\n",
            "[CV] n_neighbors=15 ..................................................\n",
            "[CV] ................................... n_neighbors=15, total=   0.0s\n",
            "[CV] n_neighbors=15 ..................................................\n",
            "[CV] ................................... n_neighbors=15, total=   0.0s\n",
            "[CV] n_neighbors=15 ..................................................\n",
            "[CV] ................................... n_neighbors=15, total=   0.0s\n",
            "[CV] n_neighbors=15 ..................................................\n",
            "[CV] ................................... n_neighbors=15, total=   0.0s\n",
            "[CV] n_neighbors=15 ..................................................\n",
            "[CV] ................................... n_neighbors=15, total=   0.0s\n",
            "[CV] n_neighbors=16 ..................................................\n",
            "[CV] ................................... n_neighbors=16, total=   0.0s\n",
            "[CV] n_neighbors=16 ..................................................\n",
            "[CV] ................................... n_neighbors=16, total=   0.0s\n",
            "[CV] n_neighbors=16 ..................................................\n",
            "[CV] ................................... n_neighbors=16, total=   0.0s\n",
            "[CV] n_neighbors=16 ..................................................\n",
            "[CV] ................................... n_neighbors=16, total=   0.0s\n",
            "[CV] n_neighbors=16 ..................................................\n",
            "[CV] ................................... n_neighbors=16, total=   0.0s\n",
            "[CV] n_neighbors=16 ..................................................\n",
            "[CV] ................................... n_neighbors=16, total=   0.0s\n",
            "[CV] n_neighbors=16 ..................................................\n",
            "[CV] ................................... n_neighbors=16, total=   0.0s\n",
            "[CV] n_neighbors=16 ..................................................\n",
            "[CV] ................................... n_neighbors=16, total=   0.0s\n",
            "[CV] n_neighbors=16 ..................................................\n",
            "[CV] ................................... n_neighbors=16, total=   0.0s\n",
            "[CV] n_neighbors=16 ..................................................\n",
            "[CV] ................................... n_neighbors=16, total=   0.0s\n",
            "[CV] n_neighbors=17 ..................................................\n",
            "[CV] ................................... n_neighbors=17, total=   0.0s\n",
            "[CV] n_neighbors=17 ..................................................\n",
            "[CV] ................................... n_neighbors=17, total=   0.0s\n",
            "[CV] n_neighbors=17 ..................................................\n",
            "[CV] ................................... n_neighbors=17, total=   0.0s\n",
            "[CV] n_neighbors=17 ..................................................\n",
            "[CV] ................................... n_neighbors=17, total=   0.0s\n",
            "[CV] n_neighbors=17 ..................................................\n",
            "[CV] ................................... n_neighbors=17, total=   0.0s\n",
            "[CV] n_neighbors=17 ..................................................\n",
            "[CV] ................................... n_neighbors=17, total=   0.0s\n",
            "[CV] n_neighbors=17 ..................................................\n",
            "[CV] ................................... n_neighbors=17, total=   0.0s\n",
            "[CV] n_neighbors=17 ..................................................\n",
            "[CV] ................................... n_neighbors=17, total=   0.0s\n",
            "[CV] n_neighbors=17 ..................................................\n",
            "[CV] ................................... n_neighbors=17, total=   0.0s\n",
            "[CV] n_neighbors=17 ..................................................\n",
            "[CV] ................................... n_neighbors=17, total=   0.0s\n",
            "[CV] n_neighbors=18 ..................................................\n",
            "[CV] ................................... n_neighbors=18, total=   0.0s\n",
            "[CV] n_neighbors=18 ..................................................\n",
            "[CV] ................................... n_neighbors=18, total=   0.0s\n",
            "[CV] n_neighbors=18 ..................................................\n",
            "[CV] ................................... n_neighbors=18, total=   0.0s\n",
            "[CV] n_neighbors=18 ..................................................\n",
            "[CV] ................................... n_neighbors=18, total=   0.0s\n",
            "[CV] n_neighbors=18 ..................................................\n",
            "[CV] ................................... n_neighbors=18, total=   0.0s\n",
            "[CV] n_neighbors=18 ..................................................\n",
            "[CV] ................................... n_neighbors=18, total=   0.0s\n",
            "[CV] n_neighbors=18 ..................................................\n",
            "[CV] ................................... n_neighbors=18, total=   0.0s\n",
            "[CV] n_neighbors=18 ..................................................\n",
            "[CV] ................................... n_neighbors=18, total=   0.0s\n",
            "[CV] n_neighbors=18 ..................................................\n",
            "[CV] ................................... n_neighbors=18, total=   0.0s\n",
            "[CV] n_neighbors=18 ..................................................\n",
            "[CV] ................................... n_neighbors=18, total=   0.0s\n",
            "[CV] n_neighbors=19 ..................................................\n",
            "[CV] ................................... n_neighbors=19, total=   0.0s\n",
            "[CV] n_neighbors=19 ..................................................\n",
            "[CV] ................................... n_neighbors=19, total=   0.0s\n",
            "[CV] n_neighbors=19 ..................................................\n",
            "[CV] ................................... n_neighbors=19, total=   0.0s\n",
            "[CV] n_neighbors=19 ..................................................\n",
            "[CV] ................................... n_neighbors=19, total=   0.0s\n",
            "[CV] n_neighbors=19 ..................................................\n",
            "[CV] ................................... n_neighbors=19, total=   0.0s\n",
            "[CV] n_neighbors=19 ..................................................\n",
            "[CV] ................................... n_neighbors=19, total=   0.0s\n",
            "[CV] n_neighbors=19 ..................................................\n",
            "[CV] ................................... n_neighbors=19, total=   0.0s\n",
            "[CV] n_neighbors=19 ..................................................\n",
            "[CV] ................................... n_neighbors=19, total=   0.0s\n",
            "[CV] n_neighbors=19 ..................................................\n",
            "[CV] ................................... n_neighbors=19, total=   0.0s\n",
            "[CV] n_neighbors=19 ..................................................\n",
            "[CV] ................................... n_neighbors=19, total=   0.0s\n",
            "[CV] n_neighbors=20 ..................................................\n",
            "[CV] ................................... n_neighbors=20, total=   0.0s\n",
            "[CV] n_neighbors=20 ..................................................\n",
            "[CV] ................................... n_neighbors=20, total=   0.0s\n",
            "[CV] n_neighbors=20 ..................................................\n",
            "[CV] ................................... n_neighbors=20, total=   0.0s\n",
            "[CV] n_neighbors=20 ..................................................\n",
            "[CV] ................................... n_neighbors=20, total=   0.0s\n",
            "[CV] n_neighbors=20 ..................................................\n",
            "[CV] ................................... n_neighbors=20, total=   0.0s\n",
            "[CV] n_neighbors=20 ..................................................\n",
            "[CV] ................................... n_neighbors=20, total=   0.0s\n",
            "[CV] n_neighbors=20 ..................................................\n",
            "[CV] ................................... n_neighbors=20, total=   0.0s\n",
            "[CV] n_neighbors=20 ..................................................\n",
            "[CV] ................................... n_neighbors=20, total=   0.0s\n",
            "[CV] n_neighbors=20 ..................................................\n",
            "[CV] ................................... n_neighbors=20, total=   0.0s\n",
            "[CV] n_neighbors=20 ..................................................\n",
            "[CV] ................................... n_neighbors=20, total=   0.0s\n",
            "[CV] n_neighbors=21 ..................................................\n",
            "[CV] ................................... n_neighbors=21, total=   0.0s\n",
            "[CV] n_neighbors=21 ..................................................\n",
            "[CV] ................................... n_neighbors=21, total=   0.0s\n",
            "[CV] n_neighbors=21 ..................................................\n",
            "[CV] ................................... n_neighbors=21, total=   0.0s\n",
            "[CV] n_neighbors=21 ..................................................\n",
            "[CV] ................................... n_neighbors=21, total=   0.0s\n",
            "[CV] n_neighbors=21 ..................................................\n",
            "[CV] ................................... n_neighbors=21, total=   0.0s\n",
            "[CV] n_neighbors=21 ..................................................\n",
            "[CV] ................................... n_neighbors=21, total=   0.0s\n",
            "[CV] n_neighbors=21 ..................................................\n",
            "[CV] ................................... n_neighbors=21, total=   0.0s\n",
            "[CV] n_neighbors=21 ..................................................\n",
            "[CV] ................................... n_neighbors=21, total=   0.0s\n",
            "[CV] n_neighbors=21 ..................................................\n",
            "[CV] ................................... n_neighbors=21, total=   0.0s\n",
            "[CV] n_neighbors=21 ..................................................\n",
            "[CV] ................................... n_neighbors=21, total=   0.0s\n",
            "[CV] n_neighbors=22 ..................................................\n",
            "[CV] ................................... n_neighbors=22, total=   0.0s\n",
            "[CV] n_neighbors=22 ..................................................\n",
            "[CV] ................................... n_neighbors=22, total=   0.0s\n",
            "[CV] n_neighbors=22 ..................................................\n",
            "[CV] ................................... n_neighbors=22, total=   0.0s\n",
            "[CV] n_neighbors=22 ..................................................\n",
            "[CV] ................................... n_neighbors=22, total=   0.0s\n",
            "[CV] n_neighbors=22 ..................................................\n",
            "[CV] ................................... n_neighbors=22, total=   0.0s\n",
            "[CV] n_neighbors=22 ..................................................\n",
            "[CV] ................................... n_neighbors=22, total=   0.0s\n",
            "[CV] n_neighbors=22 ..................................................\n",
            "[CV] ................................... n_neighbors=22, total=   0.0s\n",
            "[CV] n_neighbors=22 ..................................................\n",
            "[CV] ................................... n_neighbors=22, total=   0.0s\n",
            "[CV] n_neighbors=22 ..................................................\n",
            "[CV] ................................... n_neighbors=22, total=   0.0s\n",
            "[CV] n_neighbors=22 ..................................................\n",
            "[CV] ................................... n_neighbors=22, total=   0.0s\n",
            "[CV] n_neighbors=23 ..................................................\n",
            "[CV] ................................... n_neighbors=23, total=   0.0s\n",
            "[CV] n_neighbors=23 ..................................................\n",
            "[CV] ................................... n_neighbors=23, total=   0.0s\n",
            "[CV] n_neighbors=23 ..................................................\n",
            "[CV] ................................... n_neighbors=23, total=   0.0s\n",
            "[CV] n_neighbors=23 ..................................................\n",
            "[CV] ................................... n_neighbors=23, total=   0.0s\n",
            "[CV] n_neighbors=23 ..................................................\n",
            "[CV] ................................... n_neighbors=23, total=   0.0s\n",
            "[CV] n_neighbors=23 ..................................................\n",
            "[CV] ................................... n_neighbors=23, total=   0.0s\n",
            "[CV] n_neighbors=23 ..................................................\n",
            "[CV] ................................... n_neighbors=23, total=   0.0s\n",
            "[CV] n_neighbors=23 ..................................................\n",
            "[CV] ................................... n_neighbors=23, total=   0.0s\n",
            "[CV] n_neighbors=23 ..................................................\n",
            "[CV] ................................... n_neighbors=23, total=   0.0s\n",
            "[CV] n_neighbors=23 ..................................................\n",
            "[CV] ................................... n_neighbors=23, total=   0.0s\n",
            "[CV] n_neighbors=24 ..................................................\n",
            "[CV] ................................... n_neighbors=24, total=   0.0s\n",
            "[CV] n_neighbors=24 ..................................................\n",
            "[CV] ................................... n_neighbors=24, total=   0.0s\n",
            "[CV] n_neighbors=24 ..................................................\n",
            "[CV] ................................... n_neighbors=24, total=   0.0s\n",
            "[CV] n_neighbors=24 ..................................................\n",
            "[CV] ................................... n_neighbors=24, total=   0.0s\n",
            "[CV] n_neighbors=24 ..................................................\n",
            "[CV] ................................... n_neighbors=24, total=   0.0s\n",
            "[CV] n_neighbors=24 ..................................................\n",
            "[CV] ................................... n_neighbors=24, total=   0.0s\n",
            "[CV] n_neighbors=24 ..................................................\n",
            "[CV] ................................... n_neighbors=24, total=   0.0s\n",
            "[CV] n_neighbors=24 ..................................................\n",
            "[CV] ................................... n_neighbors=24, total=   0.0s\n",
            "[CV] n_neighbors=24 ..................................................\n",
            "[CV] ................................... n_neighbors=24, total=   0.0s\n",
            "[CV] n_neighbors=24 ..................................................\n",
            "[CV] ................................... n_neighbors=24, total=   0.0s\n",
            "0.7795868723089184\n",
            "{'n_neighbors': 17}\n",
            "              precision    recall  f1-score   support\n",
            "\n",
            "           0       0.80      0.85      0.82       256\n",
            "           1       0.83      0.78      0.80       244\n",
            "\n",
            "    accuracy                           0.81       500\n",
            "   macro avg       0.82      0.81      0.81       500\n",
            "weighted avg       0.81      0.81      0.81       500\n",
            "\n",
            "[[217  39]\n",
            " [ 54 190]]\n"
          ],
          "name": "stdout"
        },
        {
          "output_type": "stream",
          "text": [
            "[Parallel(n_jobs=1)]: Done 240 out of 240 | elapsed:    2.8s finished\n"
          ],
          "name": "stderr"
        }
      ]
    },
    {
      "cell_type": "markdown",
      "metadata": {
        "id": "MdB79zs_xVrL"
      },
      "source": [
        "### Final model"
      ]
    },
    {
      "cell_type": "code",
      "metadata": {
        "id": "Cy5j3kZSzqPe"
      },
      "source": [
        ""
      ],
      "execution_count": 24,
      "outputs": []
    },
    {
      "cell_type": "markdown",
      "metadata": {
        "id": "SpQuRl6dZynO"
      },
      "source": [
        "## Support Vector Classifier\r\n",
        "\r\n",
        "- We try SVC here\r\n",
        "- This is non-linear, parametric classifier\r\n",
        "- Much more flexible than Logistic regression\r\n",
        "- Fore more information, see Gareth et al, Chapter 9\r\n",
        "\r\n"
      ]
    },
    {
      "cell_type": "code",
      "metadata": {
        "id": "KreHrRz1WQAb"
      },
      "source": [
        "from sklearn.svm import SVC\r\n",
        "svcmod = SVC(gamma='auto')"
      ],
      "execution_count": 25,
      "outputs": []
    },
    {
      "cell_type": "code",
      "metadata": {
        "id": "UaSj_QbVZgts"
      },
      "source": [
        ""
      ],
      "execution_count": 25,
      "outputs": []
    }
  ]
}